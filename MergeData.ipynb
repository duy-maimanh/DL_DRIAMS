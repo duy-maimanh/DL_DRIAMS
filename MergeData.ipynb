{
 "cells": [
  {
   "cell_type": "code",
   "execution_count": 9,
   "id": "3b4e190e-4421-4ecd-a455-ca6c5b1aef95",
   "metadata": {
    "tags": []
   },
   "outputs": [
    {
     "name": "stdout",
     "output_type": "stream",
     "text": [
      "DRIAMS-B in 2018\n",
      "DRIAMS-A in 2017\n",
      "DRIAMS-A in 2018\n",
      "DRIAMS-A in 2015\n",
      "DRIAMS-A in 2016\n",
      "DRIAMS-D in 2018\n",
      "DRIAMS-C in 2018\n"
     ]
    }
   ],
   "source": [
    "import pandas as pd\n",
    "import os\n",
    "\n",
    "download_location = \"./archive\"\n",
    "cleancsv_file = './all_clean.csv'\n",
    "\n",
    "pd.set_option('display.max_columns', 500)\n",
    "master_df = pd.DataFrame()\n",
    "\n",
    "# Filter out .ipynb_checkpoints or unwanted hidden folders\n",
    "institutes = [x for x in os.listdir(download_location) \n",
    "              if os.path.isdir(f'{download_location}/{x}') and not x.startswith('.')]\n",
    "\n",
    "for institute in institutes:\n",
    "    years = [x for x in os.listdir(f'{download_location}/{institute}/id/') \n",
    "             if os.path.isdir(f'{download_location}/{institute}/id/{x}') and not x.startswith('.')]\n",
    "    for year in years:\n",
    "        print(f'{institute} in {year}')\n",
    "        df = pd.read_csv(f'{download_location}/{institute}/id/{year}/{year}_clean.csv', dtype='string')\n",
    "        df['year'] = year\n",
    "        df['institute'] = institute\n",
    "        if master_df.empty:\n",
    "            master_df = df\n",
    "        else:\n",
    "            master_df = pd.concat([master_df, df], ignore_index=True, sort=False)\n",
    "\n",
    "# Sort columns based on missing values\n",
    "master_df = master_df[df.isna().sum().sort_values().keys()]\n",
    "\n",
    "master_df.to_csv(cleancsv_file, index=False)\n"
   ]
  }
 ],
 "metadata": {
  "kernelspec": {
   "display_name": "Python 3 (ipykernel)",
   "language": "python",
   "name": "python3"
  },
  "language_info": {
   "codemirror_mode": {
    "name": "ipython",
    "version": 3
   },
   "file_extension": ".py",
   "mimetype": "text/x-python",
   "name": "python",
   "nbconvert_exporter": "python",
   "pygments_lexer": "ipython3",
   "version": "3.10.12"
  }
 },
 "nbformat": 4,
 "nbformat_minor": 5
}
